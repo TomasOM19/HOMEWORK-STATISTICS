{
 "cells": [
  {
   "cell_type": "markdown",
   "metadata": {},
   "source": [
    "## LEARN PHYTON 3\n",
    "# Exercise 1 \" A good first program\"\n",
    "In this part we can see about how to use the command \"print\" in a text."
   ]
  },
  {
   "cell_type": "code",
   "execution_count": 7,
   "metadata": {},
   "outputs": [
    {
     "name": "stdout",
     "output_type": "stream",
     "text": [
      "HELLO WORLD\n",
      "AMAZING WORLD\n",
      "BEATIFUL WORLD\n"
     ]
    }
   ],
   "source": [
    "print(\"HELLO WORLD\")\n",
    "print(\"AMAZING WORLD\")\n",
    "print(\"BEATIFUL WORLD\")\n",
    "\n",
    "\n"
   ]
  },
  {
   "cell_type": "markdown",
   "metadata": {},
   "source": [
    "# Exercise 2 \"Comments and pound characters\"\n",
    "\n",
    "we use the comments to say something else or know if we will remove something from our program.\n"
   ]
  },
  {
   "cell_type": "code",
   "execution_count": 8,
   "metadata": {},
   "outputs": [
    {
     "name": "stdout",
     "output_type": "stream",
     "text": [
      "HELLO WORLD\n"
     ]
    }
   ],
   "source": [
    "print(\"HELLO WORLD\")#  we use hello world like a example of how to use the print comand\n",
    "# \"Print\" is use to insert a message "
   ]
  },
  {
   "cell_type": "markdown",
   "metadata": {},
   "source": [
    "# Exercise 3 \"Numbers and Math\"\n",
    "\n",
    "In this part we use the math symbols in order to make an account "
   ]
  },
  {
   "cell_type": "code",
   "execution_count": 10,
   "metadata": {},
   "outputs": [
    {
     "name": "stdout",
     "output_type": "stream",
     "text": [
      "I WILL NOW DO A COUNT\n",
      "profits 2500.0\n",
      "declines 540\n"
     ]
    }
   ],
   "source": [
    "print(\"I WILL NOW DO A COUNT\")\n",
    "\n",
    "print(\"profits\" , 1000 + 3000 / 2)\n",
    "print(\"declines\" , 600 - 30 * 2)"
   ]
  },
  {
   "cell_type": "markdown",
   "metadata": {},
   "source": [
    "# Exercise 4 \"Variables and Names\"\n",
    "\n",
    "In this part we use the variables for greater convenience and make the code is displayed in a simpler way and do not get lost in the process."
   ]
  },
  {
   "cell_type": "code",
   "execution_count": 18,
   "metadata": {},
   "outputs": [
    {
     "name": "stdout",
     "output_type": "stream",
     "text": [
      "There are 10 in  a veterinarian,\n",
      "There are 8 in  a veterinarian,\n"
     ]
    }
   ],
   "source": [
    "dogs = 10\n",
    "cats = 8\n",
    "print(\"There are\", dogs, \"in  a veterinarian,\")\n",
    "print(\"There are\", cats, \"in  a veterinarian,\")   "
   ]
  },
  {
   "cell_type": "markdown",
   "metadata": {},
   "source": [
    "# Exercise 5 \"More Variables and Printing\"\n",
    "\n",
    "in this part we use a \"format string\"which allows our program to interact with a human by printing strings, saving strings in files, etc."
   ]
  },
  {
   "cell_type": "code",
   "execution_count": 5,
   "metadata": {},
   "outputs": [
    {
     "name": "stdout",
     "output_type": "stream",
     "text": [
      "Let's talk about Tomas A. Osorio.\n",
      "And his partner Arturo Del Angel.\n",
      "their ages are 19 years old.\n"
     ]
    }
   ],
   "source": [
    "my_name = 'Tomas A. Osorio'\n",
    "his_name = 'Arturo Del Angel'\n",
    "our_ages = 19\n",
    "print(f\"Let's talk about {my_name}.\")\n",
    "print(f\"And his partner {his_name}.\")\n",
    "print(f\"their ages are {our_ages} years old.\")"
   ]
  },
  {
   "cell_type": "code",
   "execution_count": null,
   "metadata": {},
   "outputs": [],
   "source": []
  }
 ],
 "metadata": {
  "kernelspec": {
   "display_name": "Python 3",
   "language": "python",
   "name": "python3"
  },
  "language_info": {
   "codemirror_mode": {
    "name": "ipython",
    "version": 3
   },
   "file_extension": ".py",
   "mimetype": "text/x-python",
   "name": "python",
   "nbconvert_exporter": "python",
   "pygments_lexer": "ipython3",
   "version": "3.7.4"
  }
 },
 "nbformat": 4,
 "nbformat_minor": 2
}
